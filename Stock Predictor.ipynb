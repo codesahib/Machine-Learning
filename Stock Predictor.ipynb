{
 "cells": [
  {
   "cell_type": "code",
   "execution_count": 27,
   "metadata": {},
   "outputs": [],
   "source": [
    "import pandas as pd\n",
    "import pandas_datareader.data as web\n",
    "import numpy as np\n",
    "import datetime as dt\n",
    "from matplotlib import style\n",
    "import matplotlib.pyplot as plt\n",
    "import quandl\n",
    "from sklearn.linear_model import LinearRegression\n",
    "from sklearn import preprocessing, cross_validation, svm\n",
    "%matplotlib inline"
   ]
  },
  {
   "cell_type": "code",
   "execution_count": 8,
   "metadata": {},
   "outputs": [],
   "source": [
    "style.use('ggplot')"
   ]
  },
  {
   "cell_type": "code",
   "execution_count": 19,
   "metadata": {},
   "outputs": [],
   "source": [
    "start=dt.datetime(2016,1,1)\n",
    "end=dt.datetime(2018,9,24)"
   ]
  },
  {
   "cell_type": "code",
   "execution_count": 52,
   "metadata": {},
   "outputs": [
    {
     "data": {
      "text/plain": [
       "(675, 6)"
      ]
     },
     "execution_count": 52,
     "metadata": {},
     "output_type": "execute_result"
    }
   ],
   "source": [
    "df=web.DataReader('SBIN.NS','yahoo',start,end)\n",
    "df.shape"
   ]
  },
  {
   "cell_type": "code",
   "execution_count": 53,
   "metadata": {},
   "outputs": [
    {
     "data": {
      "text/plain": [
       "(675, 1)"
      ]
     },
     "execution_count": 53,
     "metadata": {},
     "output_type": "execute_result"
    }
   ],
   "source": [
    "df=df[['Adj Close']]\n",
    "df.shape"
   ]
  },
  {
   "cell_type": "code",
   "execution_count": 65,
   "metadata": {},
   "outputs": [
    {
     "data": {
      "text/plain": [
       "(675, 2)"
      ]
     },
     "execution_count": 65,
     "metadata": {},
     "output_type": "execute_result"
    }
   ],
   "source": [
    "forecast_out = int(30) \n",
    "df['Prediction'] = df[['Adj Close']].shift(-forecast_out)\n",
    "df.shape"
   ]
  },
  {
   "cell_type": "code",
   "execution_count": 85,
   "metadata": {},
   "outputs": [
    {
     "data": {
      "text/plain": [
       "(675, 1)"
      ]
     },
     "execution_count": 85,
     "metadata": {},
     "output_type": "execute_result"
    }
   ],
   "source": [
    "X = np.array(df.drop(['Prediction'], 1))\n",
    "X = preprocessing.scale(X)\n",
    "X.shape"
   ]
  },
  {
   "cell_type": "code",
   "execution_count": 86,
   "metadata": {},
   "outputs": [
    {
     "data": {
      "text/plain": [
       "(645, 1)"
      ]
     },
     "execution_count": 86,
     "metadata": {},
     "output_type": "execute_result"
    }
   ],
   "source": [
    "X_forecast = X[-forecast_out:] # set X_forecast equal to last 30\n",
    "X = X[:-forecast_out] # remove last 30 from X\n",
    "X.shape"
   ]
  },
  {
   "cell_type": "code",
   "execution_count": 90,
   "metadata": {},
   "outputs": [
    {
     "data": {
      "text/plain": [
       "(645,)"
      ]
     },
     "execution_count": 90,
     "metadata": {},
     "output_type": "execute_result"
    }
   ],
   "source": [
    "y = np.array(df['Prediction'])\n",
    "y = y[:-forecast_out]\n",
    "y.shape"
   ]
  },
  {
   "cell_type": "code",
   "execution_count": 91,
   "metadata": {},
   "outputs": [],
   "source": [
    "X_train, X_test, y_train, y_test = cross_validation.train_test_split(X, y, test_size = 0.2)"
   ]
  },
  {
   "cell_type": "code",
   "execution_count": 92,
   "metadata": {},
   "outputs": [
    {
     "name": "stdout",
     "output_type": "stream",
     "text": [
      "confidence:  0.5199173321686463\n"
     ]
    }
   ],
   "source": [
    "# Training\n",
    "clf = LinearRegression()\n",
    "clf.fit(X_train,y_train)\n",
    "# Testing\n",
    "confidence = clf.score(X_test, y_test)\n",
    "print(\"confidence: \", confidence)"
   ]
  },
  {
   "cell_type": "code",
   "execution_count": 82,
   "metadata": {},
   "outputs": [
    {
     "name": "stdout",
     "output_type": "stream",
     "text": [
      "[[299.79095363]\n",
      " [306.12971458]\n",
      " [296.69442596]\n",
      " [289.18988674]\n",
      " [289.7363328 ]\n",
      " [288.1334377 ]\n",
      " [294.98222386]\n",
      " [299.02591581]\n",
      " [298.55233367]\n",
      " [295.23723647]\n",
      " [293.78004698]\n",
      " [299.28092842]\n",
      " [297.35015679]\n",
      " [300.51954838]\n",
      " [299.71808971]\n",
      " [300.44668446]\n",
      " [298.07875153]\n",
      " [290.82922492]\n",
      " [290.93850968]\n",
      " [290.865668  ]\n",
      " [287.36839988]\n",
      " [282.4139645 ]\n",
      " [280.77462632]\n",
      " [282.74181879]\n",
      " [286.63980513]\n",
      " [282.74181879]\n",
      " [274.36297922]\n",
      " [272.6872202 ]\n",
      " [272.03148937]\n",
      " [267.47777221]]\n"
     ]
    }
   ],
   "source": [
    "forecast_prediction = clf.predict(X_forecast)\n",
    "print(forecast_prediction)"
   ]
  },
  {
   "cell_type": "code",
   "execution_count": null,
   "metadata": {},
   "outputs": [],
   "source": []
  }
 ],
 "metadata": {
  "kernelspec": {
   "display_name": "Python 3",
   "language": "python",
   "name": "python3"
  },
  "language_info": {
   "codemirror_mode": {
    "name": "ipython",
    "version": 3
   },
   "file_extension": ".py",
   "mimetype": "text/x-python",
   "name": "python",
   "nbconvert_exporter": "python",
   "pygments_lexer": "ipython3",
   "version": "3.6.5"
  }
 },
 "nbformat": 4,
 "nbformat_minor": 2
}
